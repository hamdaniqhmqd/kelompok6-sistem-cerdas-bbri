{
 "cells": [
  {
   "cell_type": "markdown",
   "id": "1ad68e23",
   "metadata": {},
   "source": [
    "Import Library\n",
    "Library yang dibutuhkan telah diimpor dengan benar untuk prediksi harga saham dan visualisasi."
   ]
  },
  {
   "cell_type": "code",
   "execution_count": null,
   "id": "42f89578",
   "metadata": {},
   "outputs": [],
   "source": [
    "import streamlit as st\n",
    "import pandas as pd\n",
    "import numpy as np\n",
    "import pickle\n",
    "from sklearn.linear_model import LinearRegression\n",
    "from sklearn.model_selection import train_test_split\n",
    "from sklearn.metrics import mean_squared_error\n",
    "import matplotlib.pyplot as plt"
   ]
  },
  {
   "cell_type": "markdown",
   "id": "6abdb87d",
   "metadata": {},
   "source": [
    "Menampilkan Gambar Header\n",
    "Gambar logo bri.jpeg terlalu besar (width=800), dikurangi menjadi 400."
   ]
  },
  {
   "cell_type": "code",
   "execution_count": null,
   "id": "54eddae1",
   "metadata": {},
   "outputs": [],
   "source": [
    "# Menampilkan logo bank sebagai gambar\n",
    "st.image(\"bri.jpeg\", width=800)"
   ]
  },
  {
   "cell_type": "markdown",
   "id": "cb4cd4ef",
   "metadata": {},
   "source": [
    "Menambahkan Judul Aplikasi"
   ]
  },
  {
   "cell_type": "code",
   "execution_count": null,
   "id": "b8eeb874",
   "metadata": {},
   "outputs": [],
   "source": [
    "# Judul aplikasi\n",
    "st.title(\"🔮 *Prediksi dan Visualisasi Tren Harga Saham Bank Rakyat Indonesia*\")"
   ]
  },
  {
   "cell_type": "markdown",
   "id": "b4ba4ef8",
   "metadata": {},
   "source": [
    "Menampilkan Teks Pengantar\n",
    "-Gambar LogoBRI.png diubah ukuran menjadi lebih kecil (width=200).\n",
    "-Menggunakan st.markdown untuk mendukung format teks lebih baik."
   ]
  },
  {
   "cell_type": "code",
   "execution_count": null,
   "id": "ffbe4063",
   "metadata": {},
   "outputs": [],
   "source": [
    "# Menampilkan teks pengantar dengan gambar dan penjelasan\n",
    "col1, col2 = st.columns([1.5, 2.5])\n",
    "with col1:\n",
    "    st.image(\"LogoBRI.png\", width=800)\n",
    "with col2:\n",
    "    st.write(\"*Selamat datang di aplikasi prediksi tren harga saham Bank Rakyat Indonesia (BRI).*\\n\", fontsize=20)\n",
    "    st.write(\"\"\"\"\n",
    "    Pilih menu untuk memulai analisis harga saham berdasarkan periode waktu yang diinginkan. Aplikasi ini dapat membantu memprediksi tren harga saham BRI berdasarkan data historis yang diunggah. \n",
    "    Anda dapat memilih periode waktu yang berbeda dan memperoleh visualisasi serta prediksi untuk masa depan.\n",
    "    \"\"\", text_align=\"justify\")"
   ]
  },
  {
   "cell_type": "markdown",
   "id": "8841e333",
   "metadata": {},
   "source": [
    "Membuat Sidebar dengan Pilihan Periode\n",
    "Sidebar untuk memilih periode data tetap dan jelas."
   ]
  },
  {
   "cell_type": "code",
   "execution_count": null,
   "id": "5a4774f7",
   "metadata": {},
   "outputs": [],
   "source": [
    "# Sidebar dengan pilihan periode waktu\n",
    "menu = st.sidebar.selectbox(\n",
    "    \"Pilih Menu\",\n",
    "    [\"Hari\", \"Minggu\", \"Bulan\"]\n",
    ")  # Pilihan periode untuk analisis"
   ]
  },
  {
   "cell_type": "markdown",
   "id": "56a3ad2c",
   "metadata": {},
   "source": [
    "Membaca dan Menampilkan Dataset\n",
    "Kode tersebut memeriksa pilihan menu (Hari, Minggu, atau Bulan) dan menyimpan model yang telah dilatih ke file .pkl yang sesuai menggunakan pickle. File dibuka dalam mode biner (wb) agar model dapat disimpan dan digunakan kembali tanpa melatih ulang.\n"
   ]
  },
  {
   "cell_type": "code",
   "execution_count": null,
   "id": "40884e8a",
   "metadata": {},
   "outputs": [],
   "source": [
    "# Menyimpan model yang sudah dilatih\n",
    "if menu == \"Hari\":\n",
    "    with open(\"bri_stock_model_hari.pkl\", \"wb\") as f:\n",
    "        pickle.dump(model, f)\n",
    "elif menu == \"Minggu\":\n",
    "    with open(\"bri_stock_model_minggu.pkl\", \"wb\") as f:\n",
    "        pickle.dump(model, f)\n",
    "elif menu == \"Bulan\":\n",
    "    with open(\"bri_stock_model_bulan.pkl\", \"wb\") as f:\n",
    "        pickle.dump(model, f)\n"
   ]
  },
  {
   "cell_type": "markdown",
   "id": "59e2057f",
   "metadata": {},
   "source": [
    "Validasi Kolom 'Date' di Dataset\n",
    "Kode ini memeriksa apakah dataset memiliki kolom 'Date'. Jika tidak ada, aplikasi akan menampilkan pesan error."
   ]
  },
  {
   "cell_type": "code",
   "execution_count": null,
   "id": "50cd7020",
   "metadata": {},
   "outputs": [],
   "source": [
    "# Validasi kolom 'Date' ada dalam dataset\n",
    "if 'Date' not in data.columns:\n",
    "    st.error(\"Dataset harus mengandung kolom 'Date'.\")"
   ]
  },
  {
   "cell_type": "markdown",
   "id": "8cde0dca",
   "metadata": {},
   "source": [
    "Membersihkan dan Mengonversi Kolom 'Date'\n",
    "Menghapus spasi di nama kolom dan mengonversi kolom 'Date' ke format datetime. Data yang tidak valid akan dikonversi menjadi NaT.\n"
   ]
  },
  {
   "cell_type": "code",
   "execution_count": null,
   "id": "0d8b6536",
   "metadata": {},
   "outputs": [],
   "source": [
    " # Membersihkan kolom dan konversi 'Date' ke datetime\n",
    "data.columns = [col.strip() for col in data.columns]\n",
    "data['Date'] = pd.to_datetime(data['Date'], errors='coerce')\n"
   ]
  },
  {
   "cell_type": "markdown",
   "id": "7dc585df",
   "metadata": {},
   "source": [
    "Menambahkan Kolom 'Day'\n",
    "Menambahkan kolom 'Day' sebagai selisih antara setiap tanggal dan tanggal minimum, dalam satuan hari."
   ]
  },
  {
   "cell_type": "code",
   "execution_count": null,
   "id": "3b327a37",
   "metadata": {},
   "outputs": [],
   "source": [
    " # Menambahkan kolom 'Day' berdasarkan selisih dengan tanggal minimum\n",
    "data['Day'] = (data['Date'] - data['Date'].min()).dt.days"
   ]
  },
  {
   "cell_type": "markdown",
   "id": "30b8296b",
   "metadata": {},
   "source": [
    "Validasi Kolom yang Dibutuhkan\n",
    "Memeriksa apakah dataset memiliki semua kolom yang diperlukan untuk prediksi (Date, Close, Open, High, Low). Jika tidak, aplikasi menampilkan error."
   ]
  },
  {
   "cell_type": "code",
   "execution_count": null,
   "id": "01e6e79b",
   "metadata": {},
   "outputs": [],
   "source": [
    "required_columns = ['Date', 'Close', 'Open', 'High', 'Low']\n",
    "if not all(col in data.columns for col in required_columns):\n",
    "     st.error(f\"Dataset harus mengandung kolom: {required_columns}\")"
   ]
  },
  {
   "cell_type": "markdown",
   "id": "1eb8343a",
   "metadata": {},
   "source": [
    "Menyiapkan Data untuk Training dan Testing\n",
    "Memisahkan dataset menjadi fitur (X) dan target (y), kemudian membaginya menjadi data training (80%) dan testing (20%)."
   ]
  },
  {
   "cell_type": "code",
   "execution_count": null,
   "id": "633af49f",
   "metadata": {},
   "outputs": [],
   "source": [
    "# Fitur untuk prediksi\n",
    "X = data[['Day', 'Open', 'High', 'Low']]\n",
    "y = data['Close']\n",
    "\n",
    "# Pembagian data untuk training dan testing (80% training, 20% testing)\n",
    "X_train, X_test, y_train, y_test = train_test_split(X, y, test_size=0.2, random_state=42)"
   ]
  },
  {
   "cell_type": "markdown",
   "id": "d48c7ff4",
   "metadata": {},
   "source": [
    "Melatih Model Linear Regression\n",
    "Membuat dan melatih model Linear Regression menggunakan data training.\n"
   ]
  },
  {
   "cell_type": "code",
   "execution_count": null,
   "id": "1dc08eee",
   "metadata": {},
   "outputs": [],
   "source": [
    "# Membuat dan melatih model Linear Regression\n",
    "model = LinearRegression()\n",
    "model.fit(X_train, y_train)\n"
   ]
  },
  {
   "cell_type": "markdown",
   "id": "b5c34819",
   "metadata": {},
   "source": [
    "Menyimpan Model\n",
    "Model yang telah dilatih disimpan dalam file .pkl, sesuai dengan menu yang dipilih (Hari, Minggu, atau Bulan)."
   ]
  },
  {
   "cell_type": "code",
   "execution_count": null,
   "id": "34ebbb5d",
   "metadata": {},
   "outputs": [],
   "source": [
    " # Menyimpan model yang sudah dilatih\n",
    "if menu == \"Hari\":\n",
    "    with open(\"bri_stock_model_hari.pkl\", \"wb\") as f:\n",
    "                pickle.dump(model, f)\n",
    "elif menu == \"Minggu\":\n",
    "    with open(\"bri_stock_model_minggu.pkl\", \"wb\") as f:\n",
    "                pickle.dump(model, f)\n",
    "elif menu == \"Bulan\":\n",
    "     with open(\"bri_stock_model_bulan.pkl\", \"wb\") as f:\n",
    "                pickle.dump(model, f)"
   ]
  },
  {
   "cell_type": "markdown",
   "id": "83e1c06e",
   "metadata": {},
   "source": [
    "Prediksi dan Evaluasi Model\n",
    "Melakukan prediksi pada data testing dan menghitung Root Mean Squared Error (RMSE) sebagai evaluasi model.\n"
   ]
  },
  {
   "cell_type": "code",
   "execution_count": null,
   "id": "7e9467e7",
   "metadata": {},
   "outputs": [],
   "source": [
    "# Prediksi dan evaluasi model\n",
    "y_pred = model.predict(X_test)\n",
    "rmse = np.sqrt(mean_squared_error(y_test, y_pred))  # Menghitung Root Mean Squared Error\n"
   ]
  },
  {
   "cell_type": "markdown",
   "id": "a2bc964f",
   "metadata": {},
   "source": [
    " Menampilkan Checkbox untuk Memilih Kolom Visualisasi\n",
    " Menyediakan checkbox agar pengguna dapat memilih kolom yang ingin ditampilkan dalam visualisasi.\n"
   ]
  },
  {
   "cell_type": "code",
   "execution_count": null,
   "id": "fe94bc24",
   "metadata": {},
   "outputs": [],
   "source": [
    "# Memeriksa kolom yang akan digunakan untuk visualisasi\n",
    "show_close = st.checkbox(\"Tampilkan Close\", value=True)\n",
    "show_open = st.checkbox(\"Tampilkan Open\", value=True)\n",
    "show_high = st.checkbox(\"Tampilkan High\", value=True)\n",
    "show_low = st.checkbox(\"Tampilkan Low\", value=True)\n"
   ]
  },
  {
   "cell_type": "markdown",
   "id": "772dfad3",
   "metadata": {},
   "source": [
    "Membuat daftar kolom yang ditampilkan berdasarkan checkbox yang dipilih"
   ]
  },
  {
   "cell_type": "code",
   "execution_count": null,
   "id": "675e58c0",
   "metadata": {},
   "outputs": [],
   "source": [
    " # Membuat daftar kolom yang ditampilkan berdasarkan checkbox yang dipilih\n",
    "columns_to_display = ['Date']\n",
    "if show_close:\n",
    "    columns_to_display.append('Close')\n",
    "if show_open:\n",
    "    columns_to_display.append('Open')\n",
    "if show_high:\n",
    "    columns_to_display.append('High')\n",
    "if show_low:\n",
    "    columns_to_display.append('Low')\n"
   ]
  },
  {
   "cell_type": "markdown",
   "id": "8860ef1c",
   "metadata": {},
   "source": [
    "Menampilkan Grafik Tren Harga Saham\n",
    "Menampilkan grafik garis tren harga saham berdasarkan kolom yang dipilih pengguna."
   ]
  },
  {
   "cell_type": "code",
   "execution_count": null,
   "id": "dd5f6bab",
   "metadata": {},
   "outputs": [],
   "source": [
    "# Menampilkan grafik tren harga saham berdasarkan kolom yang dipilih\n",
    "historical_chart = data[columns_to_display]\n",
    "st.line_chart(historical_chart.rename(columns={\"Date\": \"index\"}).set_index(\"index\"))"
   ]
  },
  {
   "cell_type": "markdown",
   "id": "101e9d00",
   "metadata": {},
   "source": [
    "Prediksi Harga Saham Masa Depan\n",
    "Pengguna memilih jumlah hari untuk memprediksi harga saham ke depan menggunakan slider.\n"
   ]
  },
  {
   "cell_type": "code",
   "execution_count": null,
   "id": "78fbd97b",
   "metadata": {},
   "outputs": [],
   "source": [
    "# Prediksi harga saham masa depan\n",
    "days_future = st.slider(\"Prediksi untuk berapa hari ke depan?\", min_value=1, max_value=365, value=30)"
   ]
  },
  {
   "cell_type": "markdown",
   "metadata": {},
   "source": [
    "Membuat Data Prediksi Masa Depan\n",
    "Membuat data masa depan berdasarkan jumlah hari yang dipilih dan melakukan prediksi dengan model."
   ]
  },
  {
   "cell_type": "code",
   "execution_count": null,
   "id": "abd4741b",
   "metadata": {},
   "outputs": [],
   "source": [
    "future_df = pd.DataFrame({\"Date\": future_dates, \"Predicted_Close\": future_predictions})\n",
    "st.write(future_df)\n"
   ]
  },
  {
   "cell_type": "markdown",
   "id": "c9347ea8",
   "metadata": {},
   "source": [
    "Mengambil data terakhir untuk Open, High, Low"
   ]
  },
  {
   "cell_type": "code",
   "execution_count": null,
   "id": "33b3e726",
   "metadata": {},
   "outputs": [],
   "source": [
    "last_row = data.iloc[-1]\n",
    "open_price = last_row['Open']\n",
    "high_price = last_row['High']\n",
    "low_price = last_row['Low']"
   ]
  },
  {
   "cell_type": "markdown",
   "id": "101b0999",
   "metadata": {},
   "source": [
    "Membuat data prediksi"
   ]
  },
  {
   "cell_type": "code",
   "execution_count": null,
   "id": "b82c4a83",
   "metadata": {},
   "outputs": [],
   "source": [
    "future_data = np.hstack([future_days, np.full((days_future, 3), [open_price, high_price, low_price])])\n",
    "future_predictions = model.predict(future_data)\n"
   ]
  },
  {
   "cell_type": "markdown",
   "id": "aa1751a2",
   "metadata": {},
   "source": [
    "Membuat tanggal untuk prediksi masa depan"
   ]
  },
  {
   "cell_type": "code",
   "execution_count": null,
   "id": "3e2d98e4",
   "metadata": {},
   "outputs": [],
   "source": [
    "future_dates = pd.date_range(data['Date'].max() + pd.Timedelta(days=1), periods=days_future)\n",
    "future_df = pd.DataFrame({\n",
    "    \"Date\": future_dates,\n",
    "    \"Predicted_Close\": future_predictions\n",
    "})"
   ]
  },
  {
   "cell_type": "markdown",
   "id": "a70b1383",
   "metadata": {},
   "source": [
    "Menampilkan Prediksi Masa Depan\n",
    "Menampilkan tabel hasil prediksi harga saham untuk masa depan."
   ]
  },
  {
   "cell_type": "code",
   "execution_count": null,
   "id": "291dcf3a",
   "metadata": {},
   "outputs": [],
   "source": [
    "future_df = pd.DataFrame({\"Date\": future_dates, \"Predicted_Close\": future_predictions})\n",
    "st.write(future_df)\n"
   ]
  },
  {
   "cell_type": "markdown",
   "id": "2fb4f76d",
   "metadata": {},
   "source": [
    "Menampilkan Grafik Prediksi dan Data Historis\n",
    "Menggabungkan data historis dan prediksi masa depan, kemudian menampilkannya dalam grafik garis."
   ]
  },
  {
   "cell_type": "code",
   "execution_count": null,
   "id": "e4853f6e",
   "metadata": {},
   "outputs": [],
   "source": [
    "# Menampilkan grafik dengan data historis dan prediksi masa depan\n",
    "prediction_chart = pd.concat(\n",
    "    [\n",
    "        data[['Date', 'Close']],\n",
    "        future_df.rename(columns={\"Predicted_Close\": \"Close\"})\n",
    "    ],\n",
    "    ignore_index=True\n",
    ")\n",
    "st.line_chart(prediction_chart.rename(columns={\"Date\": \"index\"}).set_index(\"index\"))"
   ]
  },
  {
   "cell_type": "markdown",
   "id": "f8fc1f41",
   "metadata": {},
   "source": [
    "Membuat fitur Simpan atau unduh prediksi sebagai file CSV"
   ]
  },
  {
   "cell_type": "code",
   "execution_count": null,
   "id": "669d80ba",
   "metadata": {},
   "outputs": [],
   "source": [
    "# Simpan atau unduh prediksi sebagai file CSV\n",
    "st.subheader(\"📥 *Unduh Prediksi Tren Masa Depan*\")\n",
    "csv = prediction_chart.to_csv(index=False)\n",
    "st.download_button(\n",
    "    label=\"Download Prediksi\",\n",
    "    data=csv,\n",
    "    file_name=\"prediksi_harga_saham_bri.csv\",\n",
    "    mime=\"text/csv\"\n",
    ")"
   ]
  }
 ],
 "metadata": {
  "jupytext": {
   "cell_metadata_filter": "-all",
   "main_language": "python",
   "notebook_metadata_filter": "-all"
  },
  "kernelspec": {
   "display_name": "Python 3",
   "language": "python",
   "name": "python3"
  },
  "language_info": {
   "name": "python",
   "version": "3.12.6"
  }
 },
 "nbformat": 4,
 "nbformat_minor": 5
}
