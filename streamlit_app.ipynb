{
 "cells": [
  {
   "cell_type": "markdown",
   "id": "ce789249",
   "metadata": {},
   "source": [
    "**Import Library yang digunakan**"
   ]
  },
  {
   "cell_type": "markdown",
   "id": "edf3f3cb",
   "metadata": {},
   "source": [
    "Library Streamlit adalah framework Python yang digunakan untuk membuat aplikasi web interaktif dengan cepat dan mudah, terutama untuk kebutuhan visualisasi data, machine learning, dan analisis data. Dengan Streamlit, Anda bisa mengembangkan antarmuka pengguna (UI) tanpa harus memiliki banyak pengetahuan tentang pengembangan web."
   ]
  },
  {
   "cell_type": "code",
   "execution_count": null,
   "id": "1aee309d",
   "metadata": {},
   "outputs": [],
   "source": [
    "import streamlit as st"
   ]
  },
  {
   "cell_type": "markdown",
   "id": "bd3c3a6c",
   "metadata": {},
   "source": [
    "**Menampilkan Judul aplikasi**"
   ]
  },
  {
   "cell_type": "markdown",
   "id": "674b81d1",
   "metadata": {},
   "source": [
    "Kode tersebut berfungsi untuk menampilkan judul aplikasi menggunakan elemen HTML yang telah diformat secara khusus dengan gaya CSS. Fungsi st.markdown() digunakan untuk menampilkan teks, di mana parameter unsafe_allow_html=True memungkinkan penggunaan HTML dan CSS untuk menyesuaikan tampilannya. Judul diletakkan di dalam elemen <div> dengan properti text-align: center; untuk meratakan teks di tengah, font-size: 38px; untuk mengatur ukuran font menjadi besar, dan font-weight: bold; untuk membuat teks terlihat tebal. Judul yang ditampilkan adalah \"PREDIKSI DAN VISUALISASI SAHAM BANK RAKYAT INDONESIA,\" sehingga tampak menonjol di bagian atas aplikasi."
   ]
  },
  {
   "cell_type": "code",
   "execution_count": null,
   "id": "e2c4cf1e",
   "metadata": {},
   "outputs": [],
   "source": [
    "# Judul aplikasi\n",
    "st.markdown(\"\"\"\n",
    "<div style=\"text-align: center; font-size: 38px; font-weight: bold;\">\n",
    "            PREDIKSI DAN VISUALISASI SAHAM BANK RAKYAT INDONESIA\n",
    "</div>\n",
    "\"\"\", unsafe_allow_html=True )"
   ]
  },
  {
   "cell_type": "markdown",
   "id": "cf649fa8",
   "metadata": {},
   "source": [
    "**Menampilkan logo bank sebagai gambar**"
   ]
  },
  {
   "cell_type": "markdown",
   "id": "4b7ea3ad",
   "metadata": {},
   "source": [
    "Kode tersebut digunakan untuk menampilkan gambar logo Bank Rakyat Indonesia (file \"bri.jpeg\") pada aplikasi Streamlit. Fungsi st.image() digunakan untuk memuat dan menampilkan gambar, dengan parameter width=750 yang mengatur lebar gambar menjadi 750 piksel agar sesuai dengan tata letak aplikasi."
   ]
  },
  {
   "cell_type": "code",
   "execution_count": null,
   "id": "34bf7b3e",
   "metadata": {},
   "outputs": [],
   "source": [
    "# Menampilkan logo bank sebagai gambar\n",
    "st.image(\"bri.jpeg\", width=750)"
   ]
  },
  {
   "cell_type": "markdown",
   "id": "b02ccfa9",
   "metadata": {},
   "source": [
    "**Menampilkan teks pengantar dengan gambar serta penjelasan**"
   ]
  },
  {
   "cell_type": "markdown",
   "id": "d64111d8",
   "metadata": {},
   "source": [
    "Kode tersebut menampilkan teks pengantar yang dipadukan dengan gambar secara terstruktur menggunakan dua kolom di Streamlit. Fungsi st.columns() membuat dua kolom dengan rasio lebar 1.5:2.5. Kolom pertama (col1) digunakan untuk menampilkan gambar logo BRI (LogoBRI.png) dengan lebar 800 piksel menggunakan st.image(). Kolom kedua (col2) menampilkan teks pengantar berupa penjelasan aplikasi menggunakan st.markdown() untuk menyambut pengguna dan menjelaskan fitur utama aplikasi, seperti analisis dan prediksi tren harga saham BRI berdasarkan data historis."
   ]
  },
  {
   "cell_type": "code",
   "execution_count": null,
   "id": "ed891b3e",
   "metadata": {},
   "outputs": [],
   "source": [
    "# Menampilkan teks pengantar dengan gambar dan penjelasan\n",
    "col1, col2 = st.columns([1.5, 2.5])\n",
    "with col1:\n",
    "    st.image(\"LogoBRI.png\", width=800)\n",
    "with col2:\n",
    "    st.markdown(\n",
    "        \"\"\"\n",
    "        *Selamat datang di aplikasi prediksi tren harga saham Bank Rakyat Indonesia (BBRI)!*\n",
    "        \n",
    "        \"Pilih menu untuk memulai analisis harga saham berdasarkan periode waktu yang diinginkan. Aplikasi ini dapat membantu memprediksi tren harga saham BRI berdasarkan data historis yang diunggah. \n",
    "        Anda dapat memilih periode waktu yang berbeda dan memperoleh visualisasi serta prediksi untuk masa depan\".\n",
    "        \"\"\"\n",
    "    )"
   ]
  },
  {
   "cell_type": "code",
   "execution_count": null,
   "id": "7d0305fd",
   "metadata": {
    "lines_to_next_cell": 2
   },
   "outputs": [],
   "source": [
    "# Tambahan penjelasan\n",
    "st.markdown(\n",
    "    \"\"\"\n",
    "            \n",
    "        Aplikasi ini dirancang untuk membantu Anda memahami pergerakan harga saham **Bank Rakyat Indonesia (BBRI)** secara mudah dan interaktif. \n",
    "        Dengan memanfaatkan teknologi **Machine Learning**, aplikasi ini memungkinkan Anda untuk:\n",
    "        - **Melihat Visualisasi Tren Harga Saham**: Menampilkan data historis dan pola harga saham dari waktu ke waktu.\n",
    "        - **Prediksi Harga Saham**: Memperkirakan harga saham BBRI di masa depan berdasarkan data historis.\n",
    "        - **Analisis Mendalam**: Memberikan wawasan yang lebih detail untuk mendukung keputusan investasi.\n",
    "    \"\"\"\n",
    ")"
   ]
  },
  {
   "cell_type": "code",
   "execution_count": null,
   "id": "da6263b4",
   "metadata": {},
   "outputs": [],
   "source": [
    "# Menambahkan penjelasan detail fitur aplikasi\n",
    "st.subheader(\"✨ **Fitur Utama**\")\n",
    "st.markdown(\n",
    "    \"\"\"\n",
    "    - **Dashboard Interaktif**: Grafik yang informatif dan mudah dipahami.\n",
    "    - **Pemrosesan Data yang Akurat**: Data historis diambil langsung dari sumber terpercaya untuk memastikan keakuratan analisis.\n",
    "    - **Prediksi Masa Depan**: Menggunakan model *Machine Learning* untuk prediksi harga saham berdasarkan pola data historis.\n",
    "    \"\"\"\n",
    ")"
   ]
  },
  {
   "cell_type": "code",
   "execution_count": null,
   "id": "3bf6e68b",
   "metadata": {},
   "outputs": [],
   "source": [
    "# Menjelaskan cara menggunakan aplikasi\n",
    "st.subheader(\"📖 **Cara Menggunakan**\")\n",
    "st.markdown(\n",
    "    \"\"\"\n",
    "    1. Pilih menu **Dataset** untuk melihat grafik pergerakan harga saham BBRI secara historis.\n",
    "    2. Gunakan menu **Prediksi** untuk mendapatkan estimasi harga saham di masa depan dan melihat hasil visualisasi grafik saham.\n",
    "    3. Jelajahi menu **About Us** untuk melihat tentang aplikasi, manfaat aplikasi, dan tim pengembang .\n",
    "    \"\"\"\n",
    ")"
   ]
  },
  {
   "cell_type": "code",
   "execution_count": null,
   "id": "d9e1267b",
   "metadata": {},
   "outputs": [],
   "source": [
    "# Menambahkan tujuan aplikasi\n",
    "st.subheader(\"🎯 **Tujuan Aplikasi**\")\n",
    "st.markdown(\n",
    "    \"\"\"\n",
    "    Aplikasi ini bertujuan untuk membantu pengguna, baik investor pemula maupun profesional, dalam:\n",
    "    - Mengambil keputusan investasi yang lebih baik.\n",
    "    - Memahami tren harga saham secara komprehensif.\n",
    "    - Meningkatkan wawasan tentang analisis data dalam sektor keuangan.\n",
    "    \"\"\"\n",
    ")"
   ]
  },
  {
   "cell_type": "code",
   "execution_count": null,
   "id": "30617982",
   "metadata": {},
   "outputs": [],
   "source": [
    "# Menutup halaman dengan ucapan semangat\n",
    "st.markdown(\n",
    "    \"\"\"\n",
    "    ---\n",
    "    <div style=\"text-align: center; font-size: 18px; color: #007BFF;\">\n",
    "        Selamat menjelajahi aplikasi ini, dan semoga bermanfaat untuk investasi Anda! 💹\n",
    "    </div>\n",
    "    \"\"\",unsafe_allow_html=True)"
   ]
  },
  {
   "cell_type": "code",
   "execution_count": null,
   "id": "2fd48284",
   "metadata": {},
   "outputs": [],
   "source": []
  }
 ],
 "metadata": {
  "jupytext": {
   "cell_metadata_filter": "-all",
   "main_language": "python",
   "notebook_metadata_filter": "-all"
  },
  "language_info": {
   "name": "python"
  }
 },
 "nbformat": 4,
 "nbformat_minor": 5
}
