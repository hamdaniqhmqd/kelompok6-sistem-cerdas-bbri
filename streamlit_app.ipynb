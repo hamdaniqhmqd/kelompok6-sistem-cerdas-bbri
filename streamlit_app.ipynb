{
 "cells": [
  {
   "cell_type": "code",
   "execution_count": null,
   "id": "30fdb269",
   "metadata": {
    "lines_to_next_cell": 2
   },
   "outputs": [],
   "source": [
    "import streamlit as st\n",
    "import pandas as pd\n",
    "import numpy as np\n",
    "import pickle\n",
    "from sklearn.linear_model import LinearRegression\n",
    "from sklearn.model_selection import train_test_split\n",
    "from sklearn.metrics import mean_squared_error\n",
    "import matplotlib.pyplot as plt"
   ]
  },
  {
   "cell_type": "code",
   "execution_count": null,
   "id": "50830bfe",
   "metadata": {},
   "outputs": [],
   "source": [
    "# Judul aplikasi\n",
    "st.markdown(\"\"\"\n",
    "<div style=\"text-align: center; font-size: 38px; font-weight: bold;\">\n",
    "            PREDIKSI DAN VISUALISASI SAHAM BANK RAKYAT INDONESIA\n",
    "</div>\n",
    "\"\"\", unsafe_allow_html=True )"
   ]
  },
  {
   "cell_type": "code",
   "execution_count": null,
   "id": "2959e09c",
   "metadata": {},
   "outputs": [],
   "source": [
    "# Menampilkan logo bank sebagai gambar\n",
    "st.image(\"bri.jpeg\", width=750)"
   ]
  },
  {
   "cell_type": "code",
   "execution_count": null,
   "id": "4e9950fa",
   "metadata": {},
   "outputs": [],
   "source": [
    "# Menampilkan teks pengantar dengan gambar dan penjelasan\n",
    "col1, col2 = st.columns([1.5, 2.5])\n",
    "with col1:\n",
    "    st.image(\"LogoBRI.png\", width=800)\n",
    "with col2:\n",
    "    st.markdown(\n",
    "        \"\"\"\n",
    "        *Selamat datang di aplikasi prediksi tren harga saham Bank Rakyat Indonesia (BBRI)!*\n",
    "        \n",
    "        \"Pilih menu untuk memulai analisis harga saham berdasarkan periode waktu yang diinginkan. Aplikasi ini dapat membantu memprediksi tren harga saham BRI berdasarkan data historis yang diunggah. \n",
    "        Anda dapat memilih periode waktu yang berbeda dan memperoleh visualisasi serta prediksi untuk masa depan\".\n",
    "        \"\"\"\n",
    "    )"
   ]
  },
  {
   "cell_type": "code",
   "execution_count": null,
   "id": "90a2e9ad",
   "metadata": {
    "lines_to_next_cell": 2
   },
   "outputs": [],
   "source": [
    "# Tambahan penjelasan\n",
    "st.markdown(\n",
    "    \"\"\"\n",
    "            \n",
    "        Aplikasi ini dirancang untuk membantu Anda memahami pergerakan harga saham **Bank Rakyat Indonesia (BBRI)** secara mudah dan interaktif. \n",
    "        Dengan memanfaatkan teknologi **Machine Learning**, aplikasi ini memungkinkan Anda untuk:\n",
    "        - **Melihat Visualisasi Tren Harga Saham**: Menampilkan data historis dan pola harga saham dari waktu ke waktu.\n",
    "        - **Prediksi Harga Saham**: Memperkirakan harga saham BBRI di masa depan berdasarkan data historis.\n",
    "        - **Analisis Mendalam**: Memberikan wawasan yang lebih detail untuk mendukung keputusan investasi.\n",
    "    \"\"\"\n",
    ")"
   ]
  },
  {
   "cell_type": "code",
   "execution_count": null,
   "id": "83faeab6",
   "metadata": {},
   "outputs": [],
   "source": [
    "# Menambahkan penjelasan detail fitur aplikasi\n",
    "st.subheader(\"✨ **Fitur Utama**\")\n",
    "st.markdown(\n",
    "    \"\"\"\n",
    "    - **Dashboard Interaktif**: Grafik yang informatif dan mudah dipahami.\n",
    "    - **Pemrosesan Data yang Akurat**: Data historis diambil langsung dari sumber terpercaya untuk memastikan keakuratan analisis.\n",
    "    - **Prediksi Masa Depan**: Menggunakan model *Machine Learning* untuk prediksi harga saham berdasarkan pola data historis.\n",
    "    \"\"\"\n",
    ")"
   ]
  },
  {
   "cell_type": "code",
   "execution_count": null,
   "id": "f7d49e89",
   "metadata": {},
   "outputs": [],
   "source": [
    "# Menjelaskan cara menggunakan aplikasi\n",
    "st.subheader(\"📖 **Cara Menggunakan**\")\n",
    "st.markdown(\n",
    "    \"\"\"\n",
    "    1. Pilih menu **Dataset** untuk melihat grafik pergerakan harga saham BBRI secara historis.\n",
    "    2. Gunakan menu **Prediksi** untuk mendapatkan estimasi harga saham di masa depan dan melihat hasil visualisasi grafik saham.\n",
    "    3. Jelajahi menu **About Us** untuk melihat tentang aplikasi, manfaat aplikasi, dan tim pengembang .\n",
    "    \"\"\"\n",
    ")"
   ]
  },
  {
   "cell_type": "code",
   "execution_count": null,
   "id": "54b0de6d",
   "metadata": {},
   "outputs": [],
   "source": [
    "# Menambahkan tujuan aplikasi\n",
    "st.subheader(\"🎯 **Tujuan Aplikasi**\")\n",
    "st.markdown(\n",
    "    \"\"\"\n",
    "    Aplikasi ini bertujuan untuk membantu pengguna, baik investor pemula maupun profesional, dalam:\n",
    "    - Mengambil keputusan investasi yang lebih baik.\n",
    "    - Memahami tren harga saham secara komprehensif.\n",
    "    - Meningkatkan wawasan tentang analisis data dalam sektor keuangan.\n",
    "    \"\"\"\n",
    ")"
   ]
  },
  {
   "cell_type": "code",
   "execution_count": null,
   "id": "ee988e9a",
   "metadata": {},
   "outputs": [],
   "source": [
    "# Menutup halaman dengan ucapan semangat\n",
    "st.markdown(\n",
    "    \"\"\"\n",
    "    ---\n",
    "    <div style=\"text-align: center; font-size: 18px; color: #007BFF;\">\n",
    "        Selamat menjelajahi aplikasi ini, dan semoga bermanfaat untuk investasi Anda! 💹\n",
    "    </div>\n",
    "    \"\"\",unsafe_allow_html=True)"
   ]
  },
  {
   "cell_type": "code",
   "execution_count": null,
   "id": "7344793c",
   "metadata": {},
   "outputs": [],
   "source": []
  }
 ],
 "metadata": {
  "jupytext": {
   "cell_metadata_filter": "-all",
   "main_language": "python",
   "notebook_metadata_filter": "-all"
  },
  "kernelspec": {
   "display_name": "Python 3",
   "language": "python",
   "name": "python3"
  },
  "language_info": {
   "name": "python",
   "version": "3.12.6"
  }
 },
 "nbformat": 4,
 "nbformat_minor": 5
}
