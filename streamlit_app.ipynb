{
 "cells": [
  {
<<<<<<< HEAD
   "cell_type": "markdown",
   "id": "ce789249",
   "metadata": {},
   "source": [
    "**Import Library yang digunakan**"
   ]
  },
  {
   "cell_type": "markdown",
   "id": "edf3f3cb",
   "metadata": {},
   "source": [
    "Library Streamlit adalah framework Python yang digunakan untuk membuat aplikasi web interaktif dengan cepat dan mudah, terutama untuk kebutuhan visualisasi data, machine learning, dan analisis data. Dengan Streamlit, Anda bisa mengembangkan antarmuka pengguna (UI) tanpa harus memiliki banyak pengetahuan tentang pengembangan web."
   ]
  },
  {
   "cell_type": "code",
   "execution_count": null,
   "id": "1aee309d",
   "metadata": {},
   "outputs": [],
   "source": [
    "import streamlit as st"
   ]
  },
  {
   "cell_type": "markdown",
   "id": "bd3c3a6c",
   "metadata": {},
   "source": [
    "**Menampilkan Judul aplikasi**"
   ]
  },
  {
   "cell_type": "markdown",
   "id": "674b81d1",
   "metadata": {},
   "source": [
    "Kode tersebut berfungsi untuk menampilkan judul aplikasi menggunakan elemen HTML yang telah diformat secara khusus dengan gaya CSS. Fungsi st.markdown() digunakan untuk menampilkan teks, di mana parameter unsafe_allow_html=True memungkinkan penggunaan HTML dan CSS untuk menyesuaikan tampilannya. Judul diletakkan di dalam elemen <div> dengan properti text-align: center; untuk meratakan teks di tengah, font-size: 38px; untuk mengatur ukuran font menjadi besar, dan font-weight: bold; untuk membuat teks terlihat tebal. Judul yang ditampilkan adalah \"PREDIKSI DAN VISUALISASI SAHAM BANK RAKYAT INDONESIA,\" sehingga tampak menonjol di bagian atas aplikasi."
   ]
  },
  {
   "cell_type": "code",
   "execution_count": null,
   "id": "e2c4cf1e",
=======
   "cell_type": "code",
   "execution_count": null,
   "id": "30fdb269",
   "metadata": {
    "lines_to_next_cell": 2
   },
   "outputs": [],
   "source": [
    "import streamlit as st\n",
    "import pandas as pd\n",
    "import numpy as np\n",
    "import pickle\n",
    "from sklearn.linear_model import LinearRegression\n",
    "from sklearn.model_selection import train_test_split\n",
    "from sklearn.metrics import mean_squared_error\n",
    "import matplotlib.pyplot as plt"
   ]
  },
  {
   "cell_type": "code",
   "execution_count": null,
   "id": "50830bfe",
>>>>>>> da6bd1ac0c276e8dbd091cb758735bbc287dd8de
   "metadata": {},
   "outputs": [],
   "source": [
    "# Judul aplikasi\n",
    "st.markdown(\"\"\"\n",
    "<div style=\"text-align: center; font-size: 38px; font-weight: bold;\">\n",
    "            PREDIKSI DAN VISUALISASI SAHAM BANK RAKYAT INDONESIA\n",
    "</div>\n",
    "\"\"\", unsafe_allow_html=True )"
<<<<<<< HEAD
   ]
  },
  {
   "cell_type": "markdown",
   "id": "cf649fa8",
   "metadata": {},
   "source": [
    "**Menampilkan logo bank sebagai gambar**"
   ]
  },
  {
   "cell_type": "markdown",
   "id": "4b7ea3ad",
   "metadata": {},
   "source": [
    "Kode tersebut digunakan untuk menampilkan gambar logo Bank Rakyat Indonesia (file \"bri.jpeg\") pada aplikasi Streamlit. Fungsi st.image() digunakan untuk memuat dan menampilkan gambar, dengan parameter width=750 yang mengatur lebar gambar menjadi 750 piksel agar sesuai dengan tata letak aplikasi."
=======
>>>>>>> da6bd1ac0c276e8dbd091cb758735bbc287dd8de
   ]
  },
  {
   "cell_type": "code",
   "execution_count": null,
<<<<<<< HEAD
   "id": "34bf7b3e",
=======
   "id": "2959e09c",
>>>>>>> da6bd1ac0c276e8dbd091cb758735bbc287dd8de
   "metadata": {},
   "outputs": [],
   "source": [
    "# Menampilkan logo bank sebagai gambar\n",
    "st.image(\"bri.jpeg\", width=750)"
   ]
  },
  {
<<<<<<< HEAD
   "cell_type": "markdown",
   "id": "2fef649e",
   "metadata": {},
   "source": [
    "**Menampilkan teks pengantar dengan gambar serta penjelasan**"
   ]
  },
  {
   "cell_type": "markdown",
   "id": "72f2004d",
   "metadata": {},
   "source": [
    "Kode tersebut menampilkan teks pengantar yang dipadukan dengan gambar secara terstruktur menggunakan dua kolom di Streamlit. Fungsi st.columns() membuat dua kolom dengan rasio lebar 1.5:2.5. Kolom pertama (col1) digunakan untuk menampilkan gambar logo BRI (LogoBRI.png) dengan lebar 800 piksel menggunakan st.image(). Kolom kedua (col2) menampilkan teks pengantar berupa penjelasan aplikasi menggunakan st.markdown() untuk menyambut pengguna dan menjelaskan fitur utama aplikasi, seperti analisis dan prediksi tren harga saham BRI berdasarkan data historis."
   ]
  },
  {
   "cell_type": "code",
   "execution_count": null,
   "id": "ed891b3e",
=======
   "cell_type": "code",
   "execution_count": null,
   "id": "4e9950fa",
>>>>>>> da6bd1ac0c276e8dbd091cb758735bbc287dd8de
   "metadata": {},
   "outputs": [],
   "source": [
    "# Menampilkan teks pengantar dengan gambar dan penjelasan\n",
    "col1, col2 = st.columns([1.5, 2.5])\n",
    "with col1:\n",
    "    st.image(\"LogoBRI.png\", width=800)\n",
    "with col2:\n",
    "    st.markdown(\n",
    "        \"\"\"\n",
    "        *Selamat datang di aplikasi prediksi tren harga saham Bank Rakyat Indonesia (BBRI)!*\n",
    "        \n",
    "        \"Pilih menu untuk memulai analisis harga saham berdasarkan periode waktu yang diinginkan. Aplikasi ini dapat membantu memprediksi tren harga saham BRI berdasarkan data historis yang diunggah. \n",
    "        Anda dapat memilih periode waktu yang berbeda dan memperoleh visualisasi serta prediksi untuk masa depan\".\n",
    "        \"\"\"\n",
    "    )"
<<<<<<< HEAD
   ]
  },
  {
   "cell_type": "markdown",
   "id": "b5b08203",
   "metadata": {},
   "source": [
    "**Tambahan teks penjelasan pada aplikasi**"
   ]
  },
  {
   "cell_type": "markdown",
   "id": "87f00e48",
   "metadata": {},
   "source": [
    "Kode tersebut menampilkan penjelasan tambahan tentang aplikasi menggunakan fungsi st.markdown(). Penjelasan ini menjelaskan tujuan aplikasi, yaitu untuk membantu pengguna memahami pergerakan harga saham BBRI secara interaktif. Dengan teknologi Machine Learning, aplikasi menawarkan fitur visualisasi tren harga saham, prediksi harga saham masa depan, dan analisis mendalam untuk mendukung pengambilan keputusan investasi."
=======
>>>>>>> da6bd1ac0c276e8dbd091cb758735bbc287dd8de
   ]
  },
  {
   "cell_type": "code",
   "execution_count": null,
<<<<<<< HEAD
   "id": "7d0305fd",
=======
   "id": "90a2e9ad",
>>>>>>> da6bd1ac0c276e8dbd091cb758735bbc287dd8de
   "metadata": {
    "lines_to_next_cell": 2
   },
   "outputs": [],
   "source": [
    "# Tambahan penjelasan\n",
    "st.markdown(\n",
    "    \"\"\"\n",
    "            \n",
    "        Aplikasi ini dirancang untuk membantu Anda memahami pergerakan harga saham **Bank Rakyat Indonesia (BBRI)** secara mudah dan interaktif. \n",
    "        Dengan memanfaatkan teknologi **Machine Learning**, aplikasi ini memungkinkan Anda untuk:\n",
    "        - **Melihat Visualisasi Tren Harga Saham**: Menampilkan data historis dan pola harga saham dari waktu ke waktu.\n",
    "        - **Prediksi Harga Saham**: Memperkirakan harga saham BBRI di masa depan berdasarkan data historis.\n",
    "        - **Analisis Mendalam**: Memberikan wawasan yang lebih detail untuk mendukung keputusan investasi.\n",
    "    \"\"\"\n",
    ")"
   ]
  },
  {
<<<<<<< HEAD
   "cell_type": "markdown",
   "id": "6a578646",
   "metadata": {},
   "source": [
    "**Menambahkan sebuah penjelasan dengan detail pada fitur aplikasi**"
   ]
  },
  {
   "cell_type": "markdown",
   "id": "3c03ec02",
   "metadata": {},
   "source": [
    "Kode tersebut menambahkan penjelasan detail tentang fitur utama aplikasi dengan judul \"Fitur Utama\" menggunakan st.subheader() dan daftar fitur dalam format poin menggunakan st.markdown(). Fitur yang dijelaskan meliputi dashboard interaktif, pemrosesan data akurat dari sumber terpercaya, dan prediksi harga saham masa depan menggunakan model Machine Learning."
   ]
  },
  {
   "cell_type": "code",
   "execution_count": null,
   "id": "da6263b4",
=======
   "cell_type": "code",
   "execution_count": null,
   "id": "83faeab6",
>>>>>>> da6bd1ac0c276e8dbd091cb758735bbc287dd8de
   "metadata": {},
   "outputs": [],
   "source": [
    "# Menambahkan penjelasan detail fitur aplikasi\n",
    "st.subheader(\"✨ **Fitur Utama**\")\n",
    "st.markdown(\n",
    "    \"\"\"\n",
    "    - **Dashboard Interaktif**: Grafik yang informatif dan mudah dipahami.\n",
    "    - **Pemrosesan Data yang Akurat**: Data historis diambil langsung dari sumber terpercaya untuk memastikan keakuratan analisis.\n",
    "    - **Prediksi Masa Depan**: Menggunakan model *Machine Learning* untuk prediksi harga saham berdasarkan pola data historis.\n",
    "    \"\"\"\n",
    ")"
   ]
  },
  {
<<<<<<< HEAD
   "cell_type": "markdown",
   "id": "b364ac27",
   "metadata": {},
   "source": [
    "**Menjelaskan tentang cara menggunakan aplikasi**"
   ]
  },
  {
   "cell_type": "markdown",
   "id": "583ef3fa",
   "metadata": {},
   "source": [
    "Kode tersebut menambahkan penjelasan tentang cara menggunakan aplikasi dengan judul \"Cara Menggunakan\" menggunakan st.subheader(). Instruksi disampaikan dalam format poin melalui st.markdown(), menjelaskan langkah-langkah seperti melihat grafik historis di menu Dataset, melakukan prediksi harga saham di menu Prediksi, dan menemukan informasi tentang aplikasi di menu About Us."
   ]
  },
  {
   "cell_type": "code",
   "execution_count": null,
   "id": "3bf6e68b",
=======
   "cell_type": "code",
   "execution_count": null,
   "id": "f7d49e89",
>>>>>>> da6bd1ac0c276e8dbd091cb758735bbc287dd8de
   "metadata": {},
   "outputs": [],
   "source": [
    "# Menjelaskan cara menggunakan aplikasi\n",
    "st.subheader(\"📖 **Cara Menggunakan**\")\n",
    "st.markdown(\n",
    "    \"\"\"\n",
    "    1. Pilih menu **Dataset** untuk melihat grafik pergerakan harga saham BBRI secara historis.\n",
    "    2. Gunakan menu **Prediksi** untuk mendapatkan estimasi harga saham di masa depan dan melihat hasil visualisasi grafik saham.\n",
    "    3. Jelajahi menu **About Us** untuk melihat tentang aplikasi, manfaat aplikasi, dan tim pengembang .\n",
    "    \"\"\"\n",
    ")"
   ]
  },
  {
<<<<<<< HEAD
   "cell_type": "markdown",
   "id": "554b37d0",
   "metadata": {},
   "source": [
    "**Menambahkan penjelasan tujuan aplikasi**"
   ]
  },
  {
   "cell_type": "markdown",
   "id": "aa0c7174",
   "metadata": {},
   "source": [
    "Kode tersebut menambahkan penjelasan mengenai tujuan aplikasi dengan judul \"Tujuan Aplikasi\" menggunakan st.subheader(). Penjelasan tersebut disajikan dalam format poin melalui st.markdown(), yang menjelaskan tujuan aplikasi untuk membantu pengguna, baik investor pemula maupun profesional, dalam mengambil keputusan investasi, memahami tren harga saham, dan meningkatkan wawasan tentang analisis data di sektor keuangan."
   ]
  },
  {
   "cell_type": "code",
   "execution_count": null,
   "id": "d9e1267b",
=======
   "cell_type": "code",
   "execution_count": null,
   "id": "54b0de6d",
>>>>>>> da6bd1ac0c276e8dbd091cb758735bbc287dd8de
   "metadata": {},
   "outputs": [],
   "source": [
    "# Menambahkan tujuan aplikasi\n",
    "st.subheader(\"🎯 **Tujuan Aplikasi**\")\n",
    "st.markdown(\n",
    "    \"\"\"\n",
    "    Aplikasi ini bertujuan untuk membantu pengguna, baik investor pemula maupun profesional, dalam:\n",
    "    - Mengambil keputusan investasi yang lebih baik.\n",
    "    - Memahami tren harga saham secara komprehensif.\n",
    "    - Meningkatkan wawasan tentang analisis data dalam sektor keuangan.\n",
    "    \"\"\"\n",
    ")"
   ]
  },
  {
<<<<<<< HEAD
   "cell_type": "markdown",
   "id": "eb2b856e",
   "metadata": {},
   "source": [
    "**Membuat halaman penutup**"
   ]
  },
  {
   "cell_type": "markdown",
   "id": "e23f3d70",
   "metadata": {},
   "source": [
    "Kode tersebut menutup halaman aplikasi dengan ucapan semangat menggunakan st.markdown(). Teks \"Selamat menjelajahi aplikasi ini, dan semoga bermanfaat untuk investasi Anda!\" ditampilkan di tengah halaman dengan warna biru (#007BFF) dan ukuran font 18px, yang diformat menggunakan HTML dan CSS. Penutupan ini bertujuan untuk memberikan pesan positif kepada pengguna, dengan emoji 💹 yang menambah kesan semangat."
   ]
  },
  {
   "cell_type": "code",
   "execution_count": null,
   "id": "30617982",
=======
   "cell_type": "code",
   "execution_count": null,
   "id": "ee988e9a",
>>>>>>> da6bd1ac0c276e8dbd091cb758735bbc287dd8de
   "metadata": {},
   "outputs": [],
   "source": [
    "# Menutup halaman dengan ucapan semangat\n",
    "st.markdown(\n",
    "    \"\"\"\n",
    "    ---\n",
    "    <div style=\"text-align: center; font-size: 18px; color: #007BFF;\">\n",
    "        Selamat menjelajahi aplikasi ini, dan semoga bermanfaat untuk investasi Anda! 💹\n",
    "    </div>\n",
    "    \"\"\",unsafe_allow_html=True)"
   ]
<<<<<<< HEAD
=======
  },
  {
   "cell_type": "code",
   "execution_count": null,
   "id": "7344793c",
   "metadata": {},
   "outputs": [],
   "source": []
>>>>>>> da6bd1ac0c276e8dbd091cb758735bbc287dd8de
  }
 ],
 "metadata": {
  "jupytext": {
   "cell_metadata_filter": "-all",
   "main_language": "python",
   "notebook_metadata_filter": "-all"
<<<<<<< HEAD
  },
  "language_info": {
   "name": "python"
=======
>>>>>>> da6bd1ac0c276e8dbd091cb758735bbc287dd8de
  }
 },
 "nbformat": 4,
 "nbformat_minor": 5
}
