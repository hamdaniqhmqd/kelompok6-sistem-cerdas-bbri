{
 "cells": [
  {
   "cell_type": "markdown",
   "id": "8b1ef03c",
   "metadata": {},
   "source": [
    "**IMPORT LIBRARY YANG DIBUTUHKAN**"
   ]
  },
  {
   "cell_type": "markdown",
   "id": "416fb508",
   "metadata": {},
   "source": [
    "fungsi streamlit = Membuat antarmuka web interaktif dengan mudah untuk menampilkan data, grafik, input, atau hasil analisis tanpa perlu pengetahuan mendalam tentang web development."
   ]
  },
  {
   "cell_type": "markdown",
   "id": "1453eea6",
   "metadata": {},
   "source": [
    "fungsi Pillow = Memproses dan memanipulasi gambar dalam berbagai format (JPEG, PNG, BMP, dll.)"
   ]
  },
  {
   "cell_type": "code",
   "execution_count": null,
   "id": "a72018b9",
   "metadata": {
    "lines_to_next_cell": 1
   },
   "outputs": [],
   "source": [
    "import streamlit as st\n",
    "from PIL import Image, ImageOps, ImageDraw"
   ]
  },
  {
   "cell_type": "markdown",
   "id": "da4927e1",
   "metadata": {},
   "source": [
    " **MENAMBAHKAN CSS UNTUK TAMPILAN**"
   ]
  },
  {
   "cell_type": "markdown",
   "id": "cdd417f2",
   "metadata": {},
   "source": [
    "Fungsi `about_us()` menambahkan CSS untuk mempercantik tampilan halaman Streamlit. Kode ini mengatur teks agar rata kiri-kanan, membuat judul di tengah dengan font tebal, menampilkan gambar anggota tim berbentuk lingkaran, dan menata setiap bagian dalam kotak dengan latar abu terang dan sudut membulat. Opsi `unsafe_allow_html=True` memungkinkan penggunaan HTML dan CSS di Streamlit."
   ]
  },
  {
   "cell_type": "code",
   "execution_count": null,
   "id": "2eb35817",
   "metadata": {},
   "outputs": [],
   "source": [
    "def about_us():\n",
    "    # Menambahkan CSS untuk mempercantik tampilan\n",
    "    st.markdown(\n",
    "        \"\"\"\n",
    "        <style>\n",
    "        .justify-text {\n",
    "            text-align: justify;\n",
    "            font-size: 18px;\n",
    "            line-height: 1.6;\n",
    "        }\n",
    "        .center-text {\n",
    "            text-align: center;\n",
    "            font-size: 20px;\n",
    "            font-weight: bold;\n",
    "            margin-top: 10px;\n",
    "        }\n",
    "        .team-image {\n",
    "            border-radius: 50%;\n",
    "            width: 150px;\n",
    "            height: 150px;\n",
    "            object-fit: cover;\n",
    "            margin: 10px auto;\n",
    "            display: block;\n",
    "        }\n",
    "        .team-member {\n",
    "            text-align: center;\n",
    "            \n",
    "            margin-top: 10px;\n",
    "        }\n",
    "        .section {\n",
    "            background-color: #f9f9f9;\n",
    "            padding: 20px;\n",
    "            border-radius: 10px;\n",
    "            margin-bottom: 20px;\n",
    "        }\n",
    "        </style>\n",
    "        \"\"\",\n",
    "        unsafe_allow_html=True\n",
    "    )"
   ]
  },
  {
   "cell_type": "markdown",
   "id": "58f72787",
   "metadata": {},
   "source": [
    "**MEMBUAT BAGIAN TENTANG KAMI**"
   ]
  },
  {
   "cell_type": "markdown",
   "id": "5f0c9fad",
   "metadata": {},
   "source": [
    "Kode tersebut menampilkan deskripsi aplikasi di halaman Streamlit dalam sebuah kotak dengan teks rata kiri-kanan. Deskripsi menjelaskan bahwa aplikasi memprediksi tren harga saham BRI menggunakan data historis dan algoritma machine learning."
   ]
  },
  {
   "cell_type": "code",
   "execution_count": null,
   "id": "4e9bfc9f",
   "metadata": {},
   "outputs": [],
   "source": [
    " # Tentang Kami\n",
    "st.markdown(\n",
    "\"\"\"\n",
    "        <div class=\"section justify-text\">\n",
    "        Aplikasi ini dirancang untuk membantu Anda memprediksi tren harga saham Bank Rakyat Indonesia (BRI). Dengan menggunakan data historis dan algoritma machine learning yang canggih, kami memberikan visualisasi yang mudah dipahami dan prediksi yang akurat.\n",
    "        </div>\n",
    "        \"\"\",\n",
    "        unsafe_allow_html=True\n",
    "    )"
   ]
  },
  {
   "cell_type": "markdown",
   "id": "5c41eac6",
   "metadata": {},
   "source": [
    "**MEMBUAT BAGIAN MANFAAT APLIKASI**"
   ]
  },
  {
   "cell_type": "markdown",
   "id": "4109df87",
   "metadata": {},
   "source": [
    "Kode tersebut menampilkan bagian **\"Manfaat Aplikasi\"** di halaman Streamlit. Judul ditampilkan menggunakan `st.header`, sedangkan daftar manfaat dirender dalam format HTML dengan elemen `<ul>` untuk menampilkan poin-poin berupa daftar. Setiap poin dijelaskan dengan teks tebal menggunakan tag `<strong>`, mencakup membantu pengambilan keputusan investasi, memahami tren pasar saham, dan menyajikan data dalam grafik interaktif. Teks dibungkus dalam elemen `<div>` dengan kelas `section justify-text` untuk mempercantik tampilan, sesuai dengan gaya CSS yang telah ditentukan sebelumnya."
   ]
  },
  {
   "cell_type": "code",
   "execution_count": null,
   "id": "41aee43e",
   "metadata": {},
   "outputs": [],
   "source": [
    " # Manfaat Aplikasi\n",
    "st.header(\"Manfaat Aplikasi\")\n",
    "st.markdown(\n",
    "        \"\"\"\n",
    "        <div class=\"section justify-text\">\n",
    "        <ul>\n",
    "            <li><strong>Pengambilan Keputusan:</strong> Membantu Anda mengambil keputusan investasi yang lebih informatif.</li>\n",
    "            <li><strong>Analisis Pasar:</strong> Memahami tren pasar saham secara lebih mendalam.</li>\n",
    "            <li><strong>Visualisasi yang Interaktif:</strong> Menyajikan data dalam bentuk grafik yang mudah dipahami.</li>\n",
    "        </ul>\n",
    "        </div>\n",
    "        \"\"\",\n",
    "        unsafe_allow_html=True\n",
    "    )"
   ]
  },
  {
   "cell_type": "markdown",
   "id": "f3f4d4d3",
   "metadata": {},
   "source": [
    "**MEMBUAT BAGIAN TIM PENGEMBANG**"
   ]
  },
  {
   "cell_type": "markdown",
   "id": "a6473d7d",
   "metadata": {},
   "source": [
    "menampilkan bagian \"Tim Pengembang\" di halaman Streamlit menggunakan st.header. Selanjutnya, deskripsi tim ditampilkan dengan st.markdown, membungkus teks dalam elemen HTML <div> dengan kelas justify-text agar teks rata kiri-kanan. Deskripsi tersebut menjelaskan bahwa aplikasi dikembangkan oleh Kelompok 6 yang memiliki minat dalam bidang keuangan dan teknologi serta berkomitmen untuk terus meningkatkan manfaat aplikasi bagi pengguna. Opsi unsafe_allow_html=True digunakan agar HTML dapat dirender dengan baik di Streamlit."
   ]
  },
  {
   "cell_type": "code",
   "execution_count": null,
   "id": "52ae86b0",
   "metadata": {},
   "outputs": [],
   "source": [
    "st.header(\"Tim Pengembang\")\n",
    "st.markdown(\n",
    "        \"\"\"\n",
    "        <div class=\"justify-text\">\n",
    "        Aplikasi ini dikembangkan oleh Kelompok 6 yang memiliki minat yang besar dalam bidang keuangan dan teknologi. Kami berkomitmen untuk terus mengembangkan aplikasi ini agar semakin bermanfaat bagi pengguna.\n",
    "        </div>\n",
    "        \"\"\",\n",
    "        unsafe_allow_html=True\n",
    "    )"
   ]
  },
  {
   "cell_type": "markdown",
   "id": "1624e2f2",
   "metadata": {},
   "source": [
    "**Daftar anggota tim dengan foto**"
   ]
  },
  {
   "cell_type": "markdown",
   "id": "286be601",
   "metadata": {},
   "source": [
    "mendefinisikan daftar team_members, yang berisi informasi tentang anggota tim, termasuk nama dan nama file gambar mereka. Ada empat anggota tim dengan gambar masing-masing."
   ]
  },
  {
   "cell_type": "code",
   "execution_count": null,
   "id": "e2dc0caf",
   "metadata": {},
   "outputs": [],
   "source": [
    "  # Daftar anggota tim dengan foto\n",
    "team_members = [\n",
    "        {\"name\": \"Ahmad Hamdani\", \"image\": \"ahmad.jpg\"},\n",
    "        {\"name\": \"Bagas Yudha Ardiansyah\", \"image\": \"bagas.jpg\"},\n",
    "        {\"name\": \"Triani Yuli Astutik\", \"image\": \"triani.jpg\"},\n",
    "        {\"name\": \"Yola Septianingrum\", \"image\": \"yolaa.jpg\"}\n",
    "    ]"
   ]
  },
  {
   "cell_type": "markdown",
   "id": "e8ecaedd",
   "metadata": {},
   "source": [
    "**Menampilkan foto dan nama anggota tim dalam kolom**"
   ]
  },
  {
   "cell_type": "markdown",
   "id": "329675ef",
   "metadata": {},
   "source": [
    "menampilkan foto dan nama anggota tim dalam empat kolom di halaman Streamlit. Pertama, empat kolom dibuat menggunakan st.columns(4). Kemudian, untuk setiap anggota tim dalam daftar team_members, kode menggunakan enumerate untuk mengiterasi dan menampilkan gambar serta nama mereka. Setiap gambar anggota tim diambil dari folder images, dan gambar diproses untuk membuatnya berbentuk bulat. Proses ini dilakukan dengan menggunakan Pillow untuk memotong gambar menjadi ukuran 300x300 piksel, kemudian membuat masker berbentuk lingkaran menggunakan ImageDraw dan diterapkan pada gambar. Jika gambar ditemukan, gambar akan ditampilkan menggunakan st.image. Jika file gambar tidak ditemukan, pesan kesalahan akan ditampilkan."
   ]
  },
  {
   "cell_type": "code",
   "execution_count": null,
   "id": "15e0022e",
   "metadata": {},
   "outputs": [],
   "source": [
    " # Menampilkan foto dan nama anggota tim dalam kolom\n",
    "col1, col2, col3, col4 = st.columns(4)\n",
    "\n",
    "for i, member in enumerate(team_members):\n",
    "        col = eval(f\"col{i+1}\")\n",
    "        with col:\n",
    "            image_path = f\"images/{member['image']}\"  # Asumsi gambar ada di folder 'images'\n",
    "            try:\n",
    "                img = Image.open(image_path)\n",
    "                # Membuat gambar menjadi bulat\n",
    "                img = ImageOps.fit(img, (300, 300), Image.Resampling.LANCZOS)\n",
    "                mask = Image.new('L', (300, 300), 0)\n",
    "                draw = ImageDraw.Draw(mask)\n",
    "                draw.ellipse((0, 0, 300, 300), fill=255)\n",
    "                img.putalpha(mask)\n",
    "\n",
    "                st.image(img, use_container_width=True, output_format=\"PNG\")\n",
    "            except FileNotFoundError:\n",
    "                st.write(f\"Gambar {member['image']} tidak ditemukan.\")\n",
    "            "
   ]
  },
  {
   "cell_type": "markdown",
   "id": "df36d19b",
   "metadata": {},
   "source": [
    "**Membuat nama anggota tim berada di tengah**"
   ]
  },
  {
   "cell_type": "markdown",
   "id": "cff1a55b",
   "metadata": {},
   "source": [
    "menampilkan nama anggota tim di tengah kolom dengan menggunakan elemen HTML. Nama anggota tim diambil dari daftar team_members dan dibungkus dalam elemen <div> dengan kelas center-text, yang sebelumnya telah diatur untuk membuat teks rata tengah, dengan ukuran font 20px dan font tebal. Opsi unsafe_allow_html=True memungkinkan penggunaan HTML di Streamlit untuk menampilkan nama anggota tim dengan tampilan yang telah diatur tersebut."
   ]
  },
  {
   "cell_type": "code",
   "execution_count": null,
   "id": "5e3e20d2",
   "metadata": {},
   "outputs": [],
   "source": [
    " # Membuat nama anggota tim berada di tengah\n",
    "st.markdown(\n",
    "    f\"\"\"\n",
    "        <div class=\"center-text\">\n",
    "        {member['name']}\n",
    "        </div>\n",
    "        \"\"\",\n",
    "        unsafe_allow_html=True\n",
    "        )\n"
   ]
  },
  {
   "cell_type": "markdown",
   "id": "761d60cb",
   "metadata": {},
   "source": [
    "**Memanggil fungsi about_us()**"
   ]
  },
  {
   "cell_type": "markdown",
   "id": "f24fc500",
   "metadata": {},
   "source": []
  },
  {
   "cell_type": "code",
   "execution_count": null,
   "id": "6537c719",
   "metadata": {},
   "outputs": [],
   "source": [
    "# Memanggil fungsi about_us()\n",
    "about_us()"
   ]
  }
 ],
 "metadata": {
  "jupytext": {
   "cell_metadata_filter": "-all",
   "main_language": "python",
   "notebook_metadata_filter": "-all"
  },
  "language_info": {
   "name": "python"
  }
 },
 "nbformat": 4,
 "nbformat_minor": 5
}
