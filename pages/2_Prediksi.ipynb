{
 "cells": [
  {
   "cell_type": "code",
   "execution_count": null,
   "id": "a718c784",
   "metadata": {},
   "outputs": [],
   "source": [
    "import streamlit as st\n",
    "import pandas as pd\n",
    "import numpy as np\n",
    "import pickle\n",
    "from sklearn.linear_model import LinearRegression\n",
    "from sklearn.model_selection import train_test_split\n",
    "from sklearn.metrics import mean_squared_error\n",
    "import matplotlib.pyplot as plt"
   ]
  },
  {
   "cell_type": "code",
   "execution_count": null,
   "id": "2c284fed",
   "metadata": {},
   "outputs": [],
   "source": [
    "# Judul aplikasi\n",
    "st.title(\"🔮 *Prediksi harga Saham Bank Rakyat Indonesia Untuk Beberapa Hari Kedepan*\")"
   ]
  },
  {
   "cell_type": "code",
   "execution_count": null,
   "id": "e111d429",
   "metadata": {},
   "outputs": [],
   "source": [
    "st.markdown(\"---\")"
   ]
  },
  {
   "cell_type": "code",
   "execution_count": null,
   "id": "13f038f5",
   "metadata": {},
   "outputs": [],
   "source": [
    "# Langkah kerja penggunaan aplikasi\n",
    "st.subheader(\"**Langkah Kerja:**\")\n",
    "st.write(\"\"\"\n",
    "1. **Pastikan Dataset Lengkap**: Dataset yang digunakan harus mengandung kolom seperti *Date*, *Open*, *High*, *Low*, dan *Close* (bisa di cek di bagian Menu Dataset).\n",
    "2. **Pilih Periode Waktu**: Gunakan menu dropdown di sidebar untuk memilih periode waktu yang diinginkan seperti (Hari, Minggu, atau Bulan).\n",
    "3. **Prediksi Harga Saham Masa Depan**: Tentukan jumlah hari yang ingin diprediksi dengan menggunakan slider. Aplikasi akan memproses prediksi harga saham BRI untuk periode tersebut.\n",
    "4. **Visualisasi Hasil Prediksi**: Setelah prediksi dihitung, aplikasi akan menampilkan grafik yang menggambarkan harga saham historis dan harga prediksi untuk masa depan.\n",
    "5. **Unduh Hasil Prediksi**: Setelah melihat hasil prediksi, Anda dapat mengunduhnya dalam format CSV untuk referensi lebih lanjut atau analisis tambahan.\n",
    "\"\"\")"
   ]
  },
  {
   "cell_type": "code",
   "execution_count": null,
   "id": "a6500a93",
   "metadata": {},
   "outputs": [],
   "source": [
    "# Sidebar dengan pilihan kategori waktu\n",
    "menu = st.sidebar.selectbox(\n",
    "    \"Pilih Kategori Waktu Dataset\",\n",
    "    [\"Hari\", \"Minggu\", \"Bulan\"]\n",
    ")"
   ]
  },
  {
   "cell_type": "code",
   "execution_count": null,
   "id": "f36c590f",
   "metadata": {},
   "outputs": [],
   "source": [
    "# Menampilkan data berdasarkan periode yang dipilih\n",
    "if menu == \"Hari\":\n",
    "    data = pd.read_csv(\"bri/bbri.csv\")  # Membaca dataset harian"
   ]
  },
  {
   "cell_type": "code",
   "execution_count": null,
   "id": "9a854154",
   "metadata": {},
   "outputs": [],
   "source": [
    "elif menu == \"Minggu\":\n",
    "    data = pd.read_csv(\"bri/bbri_minggu.csv\")  # Membaca dataset mingguan"
   ]
  },
  {
   "cell_type": "code",
   "execution_count": null,
   "id": "85c52833",
   "metadata": {},
   "outputs": [],
   "source": [
    "elif menu == \"Bulan\":\n",
    "    data = pd.read_csv(\"bri/bbri_bulan.csv\")  # Membaca dataset bulanan"
   ]
  },
  {
   "cell_type": "code",
   "execution_count": null,
   "id": "855193ea",
   "metadata": {},
   "outputs": [],
   "source": [
    "st.markdown(\"---\")"
   ]
  },
  {
   "cell_type": "code",
   "execution_count": null,
   "id": "f86d89cc",
   "metadata": {
    "lines_to_next_cell": 2
   },
   "outputs": [],
   "source": [
    "# Validasi kolom 'Date' ada dalam dataset\n",
    "if 'Date' not in data.columns:\n",
    "    st.error(\"Dataset harus mengandung kolom 'Date'.\")\n",
    "else:\n",
    "    # Membersihkan kolom dan konversi 'Date' ke datetime\n",
    "    data.columns = [col.strip() for col in data.columns]\n",
    "    data['Date'] = pd.to_datetime(data['Date'], errors='coerce')\n",
    "\n",
    "    # Menambahkan kolom 'Day' berdasarkan selisih dengan tanggal minimum\n",
    "    data['Day'] = (data['Date'] - data['Date'].min()).dt.days\n",
    "\n",
    "    required_columns = ['Date', 'Close', 'Open', 'High', 'Low', 'Volume']\n",
    "    if not all(col in data.columns for col in required_columns):\n",
    "        st.error(f\"Dataset harus mengandung kolom: {required_columns}\")\n",
    "    else:\n",
    "        # Fitur untuk prediksi\n",
    "        X = data[['Day', 'Open', 'High', 'Low', 'Volume']]  # Menambahkan kolom 'Volume'\n",
    "        y = data['Close']\n",
    "\n",
    "        # Pembagian data untuk training dan testing (80% training, 20% testing)\n",
    "        X_train, X_test, y_train, y_test = train_test_split(X, y, test_size=0.2, random_state=42)\n",
    "\n",
    "        # Membuat dan melatih model Linear Regression\n",
    "        model = LinearRegression()\n",
    "        model.fit(X_train, y_train)\n",
    "\n",
    "        # Menyimpan model yang sudah dilatih sesuai dengan periode\n",
    "        if menu == \"Hari\":\n",
    "            with open(\"bri_stock_model_hari.sav\", \"wb\") as prediksi:\n",
    "                pickle.dump(model, prediksi)\n",
    "        elif menu == \"Minggu\":\n",
    "            with open(\"bri_stock_model_minggu.sav\", \"wb\") as prediksi:\n",
    "                pickle.dump(model, prediksi)\n",
    "        elif menu == \"Bulan\":\n",
    "            with open(\"bri_stock_model_bulan.sav\", \"wb\") as prediksi:\n",
    "                pickle.dump(model, prediksi)\n",
    "\n",
    "        # Prediksi harga saham masa depan sesuai periode yang dipilih\n",
    "        if menu == \"Hari\":\n",
    "            st.subheader(\"📝 Prediksi Harga Saham untuk berapa hari ke depan.\")\n",
    "            days_future = st.slider(\"🗓️ Geser slider untuk prediksi harga saham untuk berapa hari kedepan.\", min_value=1, max_value=365, value=64)\n",
    "            future_days = np.array(range(data['Day'].max() + 1, data['Day'].max() + 1 + days_future)).reshape(-1, 1)\n",
    "        elif menu == \"Minggu\":\n",
    "            st.subheader(\"📝 Prediksi Harga Saham untuk berapa minggu ke depan.\")\n",
    "            weeks_future = st.slider(\"📅 Geser slider untuk prediksi harga saham untuk berapa minggu kedepan.\", min_value=1, max_value=52, value=24)\n",
    "            future_days = np.array(range(data['Day'].max() + 7, data['Day'].max() + 7 * (weeks_future + 1), 7)).reshape(-1, 1)\n",
    "        elif menu == \"Bulan\":\n",
    "            st.subheader(\"📝 Prediksi Harga Saham untuk berapa bulan ke depan.\")\n",
    "            months_future = st.slider(\"📅 Geser slider untuk prediksi harga saham untuk berapa bulan kedepan.\", min_value=1, max_value=12, value=6)\n",
    "            future_days = np.array(range(data['Day'].max() + 30, data['Day'].max() + 30 * (months_future + 1), 30)).reshape(-1, 1)\n",
    "\n",
    "        # Mengambil data terakhir untuk Open, High, Low\n",
    "        last_row = data.iloc[-1]\n",
    "        open_price = last_row['Open']\n",
    "        high_price = last_row['High']\n",
    "        low_price = last_row['Low']\n",
    "        volume = last_row['Volume']\n",
    "\n",
    "        # Membuat data prediksi\n",
    "        future_data = np.hstack([future_days, np.full((len(future_days), 4), [open_price, high_price, low_price, volume])])\n",
    "        future_predictions = model.predict(future_data)\n",
    "\n",
    "        # Membuat tanggal untuk prediksi masa depan\n",
    "        if menu == \"Hari\":\n",
    "            future_dates = pd.date_range(data['Date'].max() + pd.Timedelta(days=1), periods=days_future)\n",
    "        elif menu == \"Minggu\":\n",
    "            future_dates = pd.date_range(data['Date'].max() + pd.Timedelta(weeks=1), periods=weeks_future)\n",
    "        elif menu == \"Bulan\":\n",
    "            future_dates = pd.date_range(data['Date'].max() + pd.DateOffset(months=1), periods=months_future)\n",
    "\n",
    "        future_df = pd.DataFrame({\n",
    "            \"Date\": future_dates,\n",
    "            \"Predicted_Close\": future_predictions\n",
    "        })\n",
    "\n",
    "        # Menambahkan status prediksi: Naik, Turun, atau Tetap\n",
    "        future_df['Status'] = future_df['Predicted_Close'].diff().apply(\n",
    "            lambda x: 'Naik' if x > 0 else ('Turun' if x < 0 else 'Tetap')\n",
    "        )\n",
    "\n",
    "        # Menampilkan hasil prediksi masa depan beserta statusnya\n",
    "        st.write(f\"📊 Hasil Prediksi Harga Saham Untuk {len(future_df)} Periode Kedepan\")\n",
    "        \n",
    "        # Menggunakan st.dataframe untuk tampilan yang lebih interaktif dan bisa digulir\n",
    "        st.dataframe(future_df, use_container_width=True)\n",
    "\n",
    "        # Menyiapkan data untuk grafik dengan memastikan tipe data yang tepat\n",
    "        prediction_chart = pd.concat(\n",
    "            [\n",
    "                data[['Date', 'Close']],\n",
    "                future_df.rename(columns={\"Predicted_Close\": \"Close\"})\n",
    "            ],\n",
    "            ignore_index=True\n",
    "        )\n",
    "\n",
    "        # Pastikan kolom 'Date' bertipe datetime\n",
    "        prediction_chart['Date'] = pd.to_datetime(prediction_chart['Date'], errors='coerce')\n",
    "\n",
    "        # Pastikan kolom 'Close' bertipe numerik\n",
    "        prediction_chart['Close'] = pd.to_numeric(prediction_chart['Close'], errors='coerce')\n",
    "\n",
    "        # Menampilkan grafik dengan data yang sudah diperbaiki\n",
    "        st.write(f\"📊 Hasil Visualisasi Grafik Harga Saham Untuk {len(future_df)} Periode Kedepan\")\n",
    "        st.line_chart(prediction_chart.set_index('Date')['Close'])\n",
    "        \n",
    "        # Menampilkan hasil evaluasi\n",
    "        st.markdown(\"---\")\n",
    "        \n",
    "        # Prediksi dan evaluasi model\n",
    "        y_pred = model.predict(X_test)\n",
    "\n",
    "        # Menghitung MSE, MAE, dan RMSE\n",
    "        mse = mean_squared_error(y_test, y_pred) \n",
    "        mae = np.mean(np.abs(y_test - y_pred))   \n",
    "        rmse = np.sqrt(mse)                      \n",
    "\n",
    "        st.subheader(\"🗃️ Hasil Evaluasi\")\n",
    "        st.write(\"Hasil Evaluasi harga saham secara keseluruhan.\")\n",
    "\n",
    "        st.write(f\"Mean Absolute Error (MAE): {mae:.2f}\")\n",
    "        st.write(f\"Mean Squared Error (MSE): {mse:.2f}\")\n",
    "        st.write(f\"Root Mean Squared Error (RMSE): {rmse:.2f}\")"
   ]
  },
  {
   "cell_type": "code",
   "execution_count": null,
   "id": "3f7d83be",
   "metadata": {},
   "outputs": [],
   "source": [
    "# Opsional: Simpan atau unduh prediksi sebagai file CSV\n",
    "st.markdown(\"---\")\n",
    "st.subheader(\"📥 Unduh Prediksi Harga Saham Bang Rakyat Indonesia Kedepannya\")\n",
    "st.write(\"Unduh Data hasil prediksi untuk referensi harga saham kedepannya. Unduh data tersebut dengan format CSV\")\n",
    "csv = prediction_chart.to_csv(index=False)\n",
    "st.download_button(\n",
    "    label=\"Download Prediksi\",\n",
    "    data=csv,\n",
    "    file_name=\"prediksi_harga_saham_bri.csv\",\n",
    "    mime=\"text/csv\"\n",
    ")"
   ]
  },
  {
   "cell_type": "code",
   "execution_count": null,
   "id": "8e48bfeb",
   "metadata": {},
   "outputs": [],
   "source": [
    "# Metode yang Digunakan\n",
    "st.markdown(\"---\")\n",
    "st.subheader(\"Metode Prediksi Harga\")\n",
    "st.write(\"\"\"\n",
    "Pada program prediksi harga saham, menggunakan metode **Regresi Linear** untuk memprediksi harga penutupan saham (Close) berdasarkan hubungan variabel independen seperti Day, Open, High, Low, dan Volume. Data historis diolah menjadi fitur numerik, dilatih dengan Linear Regression, dan dievaluasi menggunakan Mean Squared Error (MSE), Mean Absolute Error (MAE), dan Root Mean Squared Error (RMSE).\n",
    "Prediksi masa depan dilakukan secara progresif (1 hari, 7 hari, atau 30 hari), dengan hasil berupa tabel prediksi yang mencakup tanggal dan status harga (Naik, Turun, atau Tetap).\n",
    "\"\"\")"
   ]
  },
  {
   "cell_type": "code",
   "execution_count": null,
   "id": "1fb9a318",
   "metadata": {},
   "outputs": [],
   "source": [
    "# Footer dengan kesimpulan\n",
    "st.markdown(\"---\")\n",
    "st.subheader(\"**Kesimpulan:**\")\n",
    "st.write(\"\"\"\n",
    "Aplikasi ini menyediakan solusi praktis untuk memprediksi dan menganalisis tren harga saham Bank Rakyat Indonesia. Dengan fitur prediksi yang didukung algoritma regresi linear dan visualisasi data yang interaktif, Anda dapat membuat keputusan yang lebih baik berdasarkan tren pasar. Jangan lupa untuk mengunduh hasil prediksi untuk referensi di masa depan.\n",
    "Dari hasil prediksi tersebut, menggunakan metode **Regresi Linear**, evaluasi dengan MSE, MAE, dan RMSE.\n",
    "\"\"\")"
   ]
  },
  {
   "cell_type": "markdown",
   "id": "b8ea5f6c",
   "metadata": {},
   "source": [
    "selesai"
   ]
  }
 ],
 "metadata": {
  "jupytext": {
   "cell_metadata_filter": "-all",
   "main_language": "python",
   "notebook_metadata_filter": "-all"
  }
 },
 "nbformat": 4,
 "nbformat_minor": 5
}
