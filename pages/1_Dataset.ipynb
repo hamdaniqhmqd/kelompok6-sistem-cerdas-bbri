{
 "cells": [
  {
   "cell_type": "markdown",
   "metadata": {},
   "source": [
    "Kode import streamlit as st dan import pandas as pd mengimpor dua pustaka penting. Streamlit digunakan untuk membuat antarmuka web, sedangkan Pandas membantu mengelola dan menganalisis da"
   ]
  },
  {
   "cell_type": "code",
   "execution_count": null,
   "metadata": {
    "vscode": {
     "languageId": "plaintext"
    }
   },
   "outputs": [],
   "source": [
    "import streamlit as st\n",
    "import pandas as pd\n"
   ]
  },
  {
   "cell_type": "markdown",
   "metadata": {},
   "source": [
    "Bagian st.image(\"bri.jpeg\", width=800) menampilkan gambar logo bank dengan lebar 800 piksel di halaman utama aplikasi."
   ]
  }
 ],
 "metadata": {
  "language_info": {
   "name": "python"
  }
 },
 "nbformat": 4,
 "nbformat_minor": 2
}
