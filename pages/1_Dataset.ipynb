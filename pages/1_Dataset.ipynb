{
 "cells": [
  {
   "cell_type": "markdown",
   "metadata": {},
   "source": [
    "Kode import streamlit as st dan import pandas as pd mengimpor dua pustaka penting. Streamlit digunakan untuk membuat antarmuka web, sedangkan Pandas membantu mengelola dan menganalisis da"
   ]
  },
  {
   "cell_type": "code",
   "execution_count": null,
   "metadata": {},
   "outputs": [],
   "source": [
    "import streamlit as st\n",
    "import pandas as pd\n"
   ]
  },
  {
   "cell_type": "markdown",
   "metadata": {},
   "source": [
    "Bagian st.image(\"bri.jpeg\", width=800) menampilkan gambar logo bank dengan lebar 800 piksel di halaman utama aplikasi."
   ]
  },
  {
   "cell_type": "code",
   "execution_count": null,
   "metadata": {},
   "outputs": [],
   "source": [
    "st.image(\"bri.jpeg\", width=800)\n"
   ]
  },
  {
   "cell_type": "markdown",
   "metadata": {},
   "source": [
    "Kode st.title(\"📊 *Visualisasi Tren Harga Saham Bank Rakyat Indonesia*\") membuat judul utama aplikasi, yang menampilkan ikon grafik 📊 dan nama aplikasi."
   ]
  },
  {
   "cell_type": "code",
   "execution_count": null,
   "metadata": {},
   "outputs": [],
   "source": [
    "st.title(\"📊 *Visualisasi Tren Harga Saham Bank Rakyat Indonesia*\")\n"
   ]
  },
  {
   "cell_type": "markdown",
   "metadata": {},
   "source": [
    "Bagian berikutnya menggunakan kolom col1, col2 = st.columns([1.5, 2.5]) untuk membagi layar menjadi dua bagian: kolom kiri untuk gambar dan kolom kanan untuk teks pengantar."
   ]
  },
  {
   "cell_type": "code",
   "execution_count": null,
   "metadata": {},
   "outputs": [],
   "source": [
    "col1, col2 = st.columns([1.5, 2.5])\n"
   ]
  },
  {
   "cell_type": "markdown",
   "metadata": {},
   "source": [
    "Di dalam col1, kode st.image(\"LogoBRI.png\", width=800) menampilkan logo BRI, sementara di dalam col2, st.write() menampilkan teks selamat datang dan petunjuk analisis."
   ]
  },
  {
   "cell_type": "code",
   "execution_count": null,
   "metadata": {},
   "outputs": [],
   "source": [
    "with col1:\n",
    "    st.image(\"LogoBRI.png\", width=800)\n",
    "with col2:\n",
    "    st.write(\"*Selamat datang di aplikasi visualisasi tren harga saham Bank Rakyat Indonesia (BRI).*\\n\", fontsize=20)\n",
    "    st.write(\"\"\"\n",
    "    Pilih menu untuk memulai analisis harga saham berdasarkan periode waktu yang diinginkan. \n",
    "    Anda dapat memilih periode waktu yang berbeda dan memperoleh visualisasi data historis.\n",
    "    \"\"\", text_align=\"justify\")\n",
    "    "
   ]
  },
  {
   "cell_type": "markdown",
   "metadata": {},
   "source": [
    "Baris st.write(\"Unggah dataset untuk memulai analisis.\") memberikan arahan kepada pengguna untuk mengunggah dataset yang akan dianalisis."
   ]
  },
  {
   "cell_type": "code",
   "execution_count": null,
   "metadata": {},
   "outputs": [],
   "source": [
    "st.write(\"Unggah dataset untuk memulai analisis.\")\n"
   ]
  },
  {
   "cell_type": "markdown",
   "metadata": {},
   "source": [
    "Kode st.sidebar.selectbox() membuat menu dropdown di sidebar. Pengguna bisa memilih periode analisis: Harian, Mingguan, atau Bulanan."
   ]
  },
  {
   "cell_type": "code",
   "execution_count": null,
   "metadata": {},
   "outputs": [],
   "source": [
    "menu = st.sidebar.selectbox(\n",
    "    \"Pilih Menu\",\n",
    "    [\"Hari\", \"Minggu\", \"Bulan\"]\n",
    ")\n"
   ]
  },
  {
   "cell_type": "markdown",
   "metadata": {},
   "source": [
    "Berdasarkan menu yang dipilih, kode if menu == membaca dataset yang sesuai. Dataset harian, mingguan, atau bulanan ditampilkan dengan st.dataframe()."
   ]
  },
  {
   "cell_type": "code",
   "execution_count": null,
   "metadata": {},
   "outputs": [],
   "source": [
    "if menu == \"Hari\":\n",
    "    st.header(\"📅 Menampilkan per Hari\")\n",
    "    data = pd.read_csv(\"bri/bbri.csv\")\n",
    "    st.dataframe(data)\n",
    "elif menu == \"Minggu\":\n",
    "    st.header(\"📅 Menampilkan per Minggu\")\n",
    "    data = pd.read_csv(\"bri/bbri_minggu.csv\")\n",
    "    st.dataframe(data)\n",
    "elif menu == \"Bulan\":\n",
    "    st.header(\"📅 Menampilkan per Bulan\")\n",
    "    data = pd.read_csv(\"bri/bbri_bulan.csv\")\n",
    "    st.dataframe(data)\n",
    "    "
   ]
  },
  {
   "cell_type": "markdown",
   "metadata": {},
   "source": [
    "Bagian if 'Date' not in data.columns memvalidasi apakah kolom Date ada dalam dataset. Jika tidak, st.error() memberi peringatan ke pengguna."
   ]
  },
  {
   "cell_type": "code",
   "execution_count": null,
   "metadata": {},
   "outputs": [],
   "source": [
    "if 'Date' not in data.columns:\n",
    "    st.error(\"Dataset harus mengandung kolom 'Date'.\")\n",
    "    "
   ]
  },
  {
   "cell_type": "markdown",
   "metadata": {},
   "source": [
    "Bagian data.columns = [col.strip() for col in data.columns] menghapus spasi di nama kolom, dan data['Date'] mengonversi kolom tanggal ke format datetime agar bisa dianalisis lebih lanjut."
   ]
  },
  {
   "cell_type": "code",
   "execution_count": null,
   "metadata": {},
   "outputs": [],
   "source": [
    "data.columns = [col.strip() for col in data.columns]\n",
    "data['Date'] = pd.to_datetime(data['Date'], errors='coerce')\n"
   ]
  },
  {
   "cell_type": "markdown",
   "metadata": {},
   "source": [
    "Checkbox seperti st.checkbox(\"Tampilkan Close\", value=True) memberikan opsi kepada pengguna untuk memilih data harga saham (Close, Open, High, Low) yang ingin divisualisasikan."
   ]
  },
  {
   "cell_type": "code",
   "execution_count": null,
   "metadata": {},
   "outputs": [],
   "source": [
    "show_close = st.checkbox(\"Tampilkan Close\", value=True)\n",
    "show_open = st.checkbox(\"Tampilkan Open\", value=True)\n",
    "show_high = st.checkbox(\"Tampilkan High\", value=True)\n",
    "show_low = st.checkbox(\"Tampilkan Low\", value=True)\n"
   ]
  },
  {
   "cell_type": "markdown",
   "metadata": {},
   "source": [
    "Baris columns_to_display.append() membuat daftar kolom berdasarkan checkbox yang dipilih. Daftar ini akan digunakan untuk memfilter data yang divisualisasikan."
   ]
  },
  {
   "cell_type": "code",
   "execution_count": null,
   "metadata": {},
   "outputs": [],
   "source": [
    "columns_to_display = ['Date']\n",
    "if show_close:\n",
    "    columns_to_display.append('Close')\n",
    "if show_open:\n",
    "    columns_to_display.append('Open')\n",
    "if show_high:\n",
    "    columns_to_display.append('High')\n",
    "if show_low:\n",
    "    columns_to_display.append('Low')\n"
   ]
  },
  {
   "cell_type": "markdown",
   "metadata": {},
   "source": [
    "Bagian historical_chart = data[columns_to_display] memfilter dataset agar hanya menampilkan kolom yang dipilih. Data ini akan digunakan untuk membuat grafik tren."
   ]
  },
  {
   "cell_type": "code",
   "execution_count": null,
   "metadata": {},
   "outputs": [],
   "source": [
    "historical_chart = data[columns_to_display]\n"
   ]
  },
  {
   "cell_type": "markdown",
   "metadata": {},
   "source": [
    "Kode terakhir st.line_chart() membuat grafik garis untuk menampilkan tren harga saham berdasarkan data yang difilter tadi. Grafik ini dinamis sesuai pilihan pengguna."
   ]
  },
  {
   "cell_type": "code",
   "execution_count": null,
   "metadata": {},
   "outputs": [],
   "source": [
    "st.line_chart(historical_chart.rename(columns={\"Date\": \"index\"}).set_index(\"index\"))\n"
   ]
  }
 ],
 "metadata": {
  "kernelspec": {
   "display_name": "Python 3",
   "language": "python",
   "name": "python3"
  },
  "language_info": {
   "codemirror_mode": {
    "name": "ipython",
    "version": 3
   },
   "file_extension": ".py",
   "mimetype": "text/x-python",
   "name": "python",
   "nbconvert_exporter": "python",
   "pygments_lexer": "ipython3",
   "version": "3.12.5"
  }
 },
 "nbformat": 4,
 "nbformat_minor": 2
}
